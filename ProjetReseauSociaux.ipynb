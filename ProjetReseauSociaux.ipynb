{
  "nbformat": 4,
  "nbformat_minor": 0,
  "metadata": {
    "colab": {
      "provenance": [],
      "authorship_tag": "ABX9TyO4Utu2SE+e0/Jznyaq+2Sw",
      "include_colab_link": true
    },
    "kernelspec": {
      "name": "python3",
      "display_name": "Python 3"
    },
    "language_info": {
      "name": "python"
    }
  },
  "cells": [
    {
      "cell_type": "markdown",
      "metadata": {
        "id": "view-in-github",
        "colab_type": "text"
      },
      "source": [
        "<a href=\"https://colab.research.google.com/github/ayyyaa/Project/blob/main/ProjetReseauSociaux.ipynb\" target=\"_parent\"><img src=\"https://colab.research.google.com/assets/colab-badge.svg\" alt=\"Open In Colab\"/></a>"
      ]
    },
    {
      "cell_type": "code",
      "execution_count": 12,
      "metadata": {
        "colab": {
          "base_uri": "https://localhost:8080/"
        },
        "id": "l__V40M6ovsm",
        "outputId": "8deae257-f153-4ae1-eda9-2dcf74f9a8d5"
      },
      "outputs": [
        {
          "output_type": "stream",
          "name": "stdout",
          "text": [
            "Requirement already satisfied: networkx in /usr/local/lib/python3.11/dist-packages (3.4.2)\n",
            "--2025-04-23 09:02:31--  https://snap.stanford.edu/data/ca-GrQc.txt.gz\n",
            "Resolving snap.stanford.edu (snap.stanford.edu)... 171.64.75.80\n",
            "Connecting to snap.stanford.edu (snap.stanford.edu)|171.64.75.80|:443... connected.\n",
            "HTTP request sent, awaiting response... 200 OK\n",
            "Length: 109261 (107K) [application/x-gzip]\n",
            "Saving to: ‘ca-GrQc.txt.gz’\n",
            "\n",
            "ca-GrQc.txt.gz      100%[===================>] 106.70K   284KB/s    in 0.4s    \n",
            "\n",
            "2025-04-23 09:02:32 (284 KB/s) - ‘ca-GrQc.txt.gz’ saved [109261/109261]\n",
            "\n",
            "gzip: ca-GrQc.txt already exists; do you wish to overwrite (y or n)? Y\n"
          ]
        }
      ],
      "source": [
        "# Installer les bibliothèques\n",
        "!pip install networkx\n",
        "\n",
        "# Télécharger le fichier\n",
        "!wget https://snap.stanford.edu/data/ca-GrQc.txt.gz\n",
        "\n",
        "# Décompresser\n",
        "!gunzip ca-GrQc.txt.gz"
      ]
    },
    {
      "cell_type": "markdown",
      "source": [
        "Charger et construire le graphe"
      ],
      "metadata": {
        "id": "oD8J79Hnwmsu"
      }
    },
    {
      "cell_type": "code",
      "source": [
        "import networkx as nx\n",
        "\n",
        "# Lire le graphe à partir du fichier texte\n",
        "G = nx.read_edgelist(\"ca-GrQc.txt\", comments='#', nodetype=int)\n",
        "\n",
        "# Afficher quelques infos de base\n",
        "print(f\"Nombre de nœuds : {G.number_of_nodes()}\")\n",
        "print(f\"Nombre de liens : {G.number_of_edges()}\")\n",
        "\n",
        "# Afficher un aperçu des premiers nœuds\n",
        "print(\"Exemple de nœuds :\", list(G.nodes())[:10])\n"
      ],
      "metadata": {
        "colab": {
          "base_uri": "https://localhost:8080/"
        },
        "id": "mUJKVjWyvli6",
        "outputId": "007d4ca0-94d2-4b8c-faeb-3fba3f5c9b29"
      },
      "execution_count": 13,
      "outputs": [
        {
          "output_type": "stream",
          "name": "stdout",
          "text": [
            "Nombre de nœuds : 5242\n",
            "Nombre de liens : 14496\n",
            "Exemple de nœuds : [3466, 937, 5233, 8579, 10310, 15931, 17038, 18720, 19607, 1854]\n"
          ]
        }
      ]
    },
    {
      "cell_type": "markdown",
      "source": [
        "Code pour la distribution des degrés"
      ],
      "metadata": {
        "id": "kBSwkdk8whIJ"
      }
    },
    {
      "cell_type": "code",
      "source": [
        "import matplotlib.pyplot as plt\n",
        "\n",
        "# Calcul des degrés\n",
        "degree_sequence = sorted([d for n, d in G.degree()], reverse=True)\n",
        "\n",
        "# Affichage\n",
        "plt.figure(figsize=(10, 6))\n",
        "plt.hist(degree_sequence, bins=50, color='skyblue', edgecolor='black')\n",
        "plt.title(\"Distribution des degrés dans le réseau ca-GrQc\")\n",
        "plt.xlabel(\"Degré (nombre de connexions)\")\n",
        "plt.ylabel(\"Nombre de nœuds\")\n",
        "plt.grid(True)\n",
        "plt.show()\n",
        "\n",
        "# Infos complémentaires\n",
        "print(f\"Degré minimum : {min(degree_sequence)}\")\n",
        "print(f\"Degré maximum : {max(degree_sequence)}\")\n",
        "print(f\"Degré moyen : {sum(degree_sequence)/len(degree_sequence):.2f}\")\n"
      ],
      "metadata": {
        "colab": {
          "base_uri": "https://localhost:8080/",
          "height": 617
        },
        "id": "V4AQ8EH6v2OE",
        "outputId": "3a1aa539-e78b-4213-8daa-0d87193e3c9a"
      },
      "execution_count": 14,
      "outputs": [
        {
          "output_type": "display_data",
          "data": {
            "text/plain": [
              "<Figure size 1000x600 with 1 Axes>"
            ],
            "image/png": "[encoded data removed]"
          },
          "metadata": {}
        },
        {
          "output_type": "stream",
          "name": "stdout",
          "text": [
            "Degré minimum : 1\n",
            "Degré maximum : 81\n",
            "Degré moyen : 5.53\n"
          ]
        }
      ]
    },
    {
      "cell_type": "markdown",
      "source": [
        "Installation des bibliothèques"
      ],
      "metadata": {
        "id": "vd73fbZNwdyH"
      }
    },
    {
      "cell_type": "code",
      "source": [
        "!pip install cdlib\n",
        "!pip install python-louvain\n",
        "!pip install infomap\n"
      ],
      "metadata": {
        "colab": {
          "base_uri": "https://localhost:8080/"
        },
        "id": "vfNkH3YrwCTm",
        "outputId": "0323895d-33fe-4231-a8ad-0c101af18d2d"
      },
      "execution_count": 15,
      "outputs": [
        {
          "output_type": "stream",
          "name": "stdout",
          "text": [
            "Requirement already satisfied: cdlib in /usr/local/lib/python3.11/dist-packages (0.4.0)\n",
            "Requirement already satisfied: numpy in /usr/local/lib/python3.11/dist-packages (from cdlib) (2.0.2)\n",
            "Requirement already satisfied: scikit-learn in /usr/local/lib/python3.11/dist-packages (from cdlib) (1.6.1)\n",
            "Requirement already satisfied: tqdm in /usr/local/lib/python3.11/dist-packages (from cdlib) (4.67.1)\n",
            "Requirement already satisfied: networkx>=3.0 in /usr/local/lib/python3.11/dist-packages (from cdlib) (3.4.2)\n",
            "Requirement already satisfied: demon in /usr/local/lib/python3.11/dist-packages (from cdlib) (2.0.6)\n",
            "Requirement already satisfied: python-louvain>=0.16 in /usr/local/lib/python3.11/dist-packages (from cdlib) (0.16)\n",
            "Requirement already satisfied: scipy>=1.10 in /usr/local/lib/python3.11/dist-packages (from cdlib) (1.14.1)\n",
            "Requirement already satisfied: pulp in /usr/local/lib/python3.11/dist-packages (from cdlib) (3.1.1)\n",
            "Requirement already satisfied: seaborn in /usr/local/lib/python3.11/dist-packages (from cdlib) (0.13.2)\n",
            "Requirement already satisfied: pandas in /usr/local/lib/python3.11/dist-packages (from cdlib) (2.2.2)\n",
            "Requirement already satisfied: eva-lcd in /usr/local/lib/python3.11/dist-packages (from cdlib) (0.1.1)\n",
            "Requirement already satisfied: bimlpa in /usr/local/lib/python3.11/dist-packages (from cdlib) (0.1.2)\n",
            "Requirement already satisfied: python-igraph>=0.10 in /usr/local/lib/python3.11/dist-packages (from cdlib) (0.11.8)\n",
            "Requirement already satisfied: angelcommunity in /usr/local/lib/python3.11/dist-packages (from cdlib) (2.0.0)\n",
            "Requirement already satisfied: pooch in /usr/local/lib/python3.11/dist-packages (from cdlib) (1.8.2)\n",
            "Requirement already satisfied: dynetx in /usr/local/lib/python3.11/dist-packages (from cdlib) (0.3.2)\n",
            "Requirement already satisfied: thresholdclustering in /usr/local/lib/python3.11/dist-packages (from cdlib) (1.1)\n",
            "Requirement already satisfied: python-Levenshtein in /usr/local/lib/python3.11/dist-packages (from cdlib) (0.27.1)\n",
            "Requirement already satisfied: plotly in /usr/local/lib/python3.11/dist-packages (from cdlib) (5.24.1)\n",
            "Requirement already satisfied: igraph==0.11.8 in /usr/local/lib/python3.11/dist-packages (from python-igraph>=0.10->cdlib) (0.11.8)\n",
            "Requirement already satisfied: texttable>=1.6.2 in /usr/local/lib/python3.11/dist-packages (from igraph==0.11.8->python-igraph>=0.10->cdlib) (1.7.0)\n",
            "Requirement already satisfied: future in /usr/local/lib/python3.11/dist-packages (from angelcommunity->cdlib) (1.0.0)\n",
            "Requirement already satisfied: matplotlib in /usr/local/lib/python3.11/dist-packages (from bimlpa->cdlib) (3.10.0)\n",
            "Requirement already satisfied: decorator in /usr/local/lib/python3.11/dist-packages (from dynetx->cdlib) (4.4.2)\n",
            "Requirement already satisfied: python-dateutil>=2.8.2 in /usr/local/lib/python3.11/dist-packages (from pandas->cdlib) (2.8.2)\n",
            "Requirement already satisfied: pytz>=2020.1 in /usr/local/lib/python3.11/dist-packages (from pandas->cdlib) (2025.2)\n",
            "Requirement already satisfied: tzdata>=2022.7 in /usr/local/lib/python3.11/dist-packages (from pandas->cdlib) (2025.2)\n",
            "Requirement already satisfied: tenacity>=6.2.0 in /usr/local/lib/python3.11/dist-packages (from plotly->cdlib) (9.1.2)\n",
            "Requirement already satisfied: packaging in /usr/local/lib/python3.11/dist-packages (from plotly->cdlib) (24.2)\n",
            "Requirement already satisfied: platformdirs>=2.5.0 in /usr/local/lib/python3.11/dist-packages (from pooch->cdlib) (4.3.7)\n",
            "Requirement already satisfied: requests>=2.19.0 in /usr/local/lib/python3.11/dist-packages (from pooch->cdlib) (2.32.3)\n",
            "Requirement already satisfied: Levenshtein==0.27.1 in /usr/local/lib/python3.11/dist-packages (from python-Levenshtein->cdlib) (0.27.1)\n",
            "Requirement already satisfied: rapidfuzz<4.0.0,>=3.9.0 in /usr/local/lib/python3.11/dist-packages (from Levenshtein==0.27.1->python-Levenshtein->cdlib) (3.13.0)\n",
            "Requirement already satisfied: joblib>=1.2.0 in /usr/local/lib/python3.11/dist-packages (from scikit-learn->cdlib) (1.4.2)\n",
            "Requirement already satisfied: threadpoolctl>=3.1.0 in /usr/local/lib/python3.11/dist-packages (from scikit-learn->cdlib) (3.6.0)\n",
            "Requirement already satisfied: contourpy>=1.0.1 in /usr/local/lib/python3.11/dist-packages (from matplotlib->bimlpa->cdlib) (1.3.2)\n",
            "Requirement already satisfied: cycler>=0.10 in /usr/local/lib/python3.11/dist-packages (from matplotlib->bimlpa->cdlib) (0.12.1)\n",
            "Requirement already satisfied: fonttools>=4.22.0 in /usr/local/lib/python3.11/dist-packages (from matplotlib->bimlpa->cdlib) (4.57.0)\n",
            "Requirement already satisfied: kiwisolver>=1.3.1 in /usr/local/lib/python3.11/dist-packages (from matplotlib->bimlpa->cdlib) (1.4.8)\n",
            "Requirement already satisfied: pillow>=8 in /usr/local/lib/python3.11/dist-packages (from matplotlib->bimlpa->cdlib) (11.1.0)\n",
            "Requirement already satisfied: pyparsing>=2.3.1 in /usr/local/lib/python3.11/dist-packages (from matplotlib->bimlpa->cdlib) (3.2.3)\n",
            "Requirement already satisfied: six>=1.5 in /usr/local/lib/python3.11/dist-packages (from python-dateutil>=2.8.2->pandas->cdlib) (1.17.0)\n",
            "Requirement already satisfied: charset-normalizer<4,>=2 in /usr/local/lib/python3.11/dist-packages (from requests>=2.19.0->pooch->cdlib) (3.4.1)\n",
            "Requirement already satisfied: idna<4,>=2.5 in /usr/local/lib/python3.11/dist-packages (from requests>=2.19.0->pooch->cdlib) (3.10)\n",
            "Requirement already satisfied: urllib3<3,>=1.21.1 in /usr/local/lib/python3.11/dist-packages (from requests>=2.19.0->pooch->cdlib) (2.3.0)\n",
            "Requirement already satisfied: certifi>=2017.4.17 in /usr/local/lib/python3.11/dist-packages (from requests>=2.19.0->pooch->cdlib) (2025.1.31)\n",
            "Requirement already satisfied: python-louvain in /usr/local/lib/python3.11/dist-packages (0.16)\n",
            "Requirement already satisfied: networkx in /usr/local/lib/python3.11/dist-packages (from python-louvain) (3.4.2)\n",
            "Requirement already satisfied: numpy in /usr/local/lib/python3.11/dist-packages (from python-louvain) (2.0.2)\n",
            "Requirement already satisfied: infomap in /usr/local/lib/python3.11/dist-packages (2.8.0)\n"
          ]
        }
      ]
    },
    {
      "cell_type": "markdown",
      "source": [
        "Préparer le graphe"
      ],
      "metadata": {
        "id": "KZoTAXXjwaeX"
      }
    },
    {
      "cell_type": "code",
      "source": [
        "from cdlib import algorithms\n",
        "from cdlib import evaluation\n",
        "\n",
        "# Ton graphe est déjà prêt : G\n"
      ],
      "metadata": {
        "id": "hg_0vI8_wGRP"
      },
      "execution_count": 16,
      "outputs": []
    },
    {
      "cell_type": "markdown",
      "source": [
        "Tester 3 algorithmes"
      ],
      "metadata": {
        "id": "DNDE7ssswTC7"
      }
    },
    {
      "cell_type": "markdown",
      "source": [
        "Propagation des labels"
      ],
      "metadata": {
        "id": "1IIeKI9Vwwox"
      }
    },
    {
      "cell_type": "code",
      "source": [
        "labels_comm = algorithms.label_propagation(G)\n",
        "print(\"Label Propagation:\", len(labels_comm.communities), \"communautés trouvées\")\n"
      ],
      "metadata": {
        "colab": {
          "base_uri": "https://localhost:8080/"
        },
        "id": "1tZCmim9wSXe",
        "outputId": "9dc57cf9-63a2-4ca1-e8b2-341ebdeee905"
      },
      "execution_count": 17,
      "outputs": [
        {
          "output_type": "stream",
          "name": "stdout",
          "text": [
            "Label Propagation: 1018 communautés trouvées\n"
          ]
        }
      ]
    },
    {
      "cell_type": "markdown",
      "source": [
        "2. Louvain"
      ],
      "metadata": {
        "id": "H0_trqIWwyG3"
      }
    },
    {
      "cell_type": "code",
      "source": [
        "louvain_comm = algorithms.louvain(G)\n",
        "print(\"Louvain:\", len(louvain_comm.communities), \"communautés trouvées\")\n"
      ],
      "metadata": {
        "colab": {
          "base_uri": "https://localhost:8080/"
        },
        "id": "J-YjIYfCw1RY",
        "outputId": "1302d275-a2a1-4c86-f5ae-a42a9623ea86"
      },
      "execution_count": 18,
      "outputs": [
        {
          "output_type": "stream",
          "name": "stdout",
          "text": [
            "Louvain: 392 communautés trouvées\n"
          ]
        }
      ]
    },
    {
      "cell_type": "markdown",
      "source": [
        "Infomap"
      ],
      "metadata": {
        "id": "alQfUVVzw4JX"
      }
    },
    {
      "cell_type": "code",
      "source": [
        "infomap_comm = algorithms.infomap(G)\n",
        "print(\"Infomap:\", len(infomap_comm.communities), \"communautés trouvées\")\n"
      ],
      "metadata": {
        "colab": {
          "base_uri": "https://localhost:8080/"
        },
        "id": "AfJVbA6rw4tn",
        "outputId": "e8bf7d4f-8da7-4eaa-bdcd-98c6aeec9d29"
      },
      "execution_count": 19,
      "outputs": [
        {
          "output_type": "stream",
          "name": "stdout",
          "text": [
            "Infomap: 376 communautés trouvées\n"
          ]
        }
      ]
    },
    {
      "cell_type": "markdown",
      "source": [
        "Comparaison des résultats"
      ],
      "metadata": {
        "id": "97cCZ9kww8t8"
      }
    },
    {
      "cell_type": "code",
      "source": [
        "print(\"Modularité (Label Propagation) :\", evaluation.newman_girvan_modularity(G, labels_comm).score)\n",
        "print(\"Modularité (Louvain) :\", evaluation.newman_girvan_modularity(G, louvain_comm).score)\n",
        "print(\"Modularité (Infomap) :\", evaluation.newman_girvan_modularity(G, infomap_comm).score)\n"
      ],
      "metadata": {
        "colab": {
          "base_uri": "https://localhost:8080/"
        },
        "id": "D0zs2869w-f_",
        "outputId": "98aeef7a-77f9-4feb-a925-93eee7a34acd"
      },
      "execution_count": 20,
      "outputs": [
        {
          "output_type": "stream",
          "name": "stdout",
          "text": [
            "Modularité (Label Propagation) : 0.7442160506750036\n",
            "Modularité (Louvain) : 0.8618352727813376\n",
            "Modularité (Infomap) : 0.8387372989625723\n"
          ]
        }
      ]
    },
    {
      "cell_type": "code",
      "source": [
        "nx.number_connected_components(G)\n"
      ],
      "metadata": {
        "colab": {
          "base_uri": "https://localhost:8080/"
        },
        "id": "XaK2GaHez43L",
        "outputId": "fe648911-dd54-45fc-ce55-129ce602d768"
      },
      "execution_count": 21,
      "outputs": [
        {
          "output_type": "execute_result",
          "data": {
            "text/plain": [
              "355"
            ]
          },
          "metadata": {},
          "execution_count": 21
        }
      ]
    },
    {
      "cell_type": "markdown",
      "source": [
        "Diamètre du graphe"
      ],
      "metadata": {
        "id": "zSKSEGVa5bs3"
      }
    },
    {
      "cell_type": "code",
      "source": [
        "if nx.is_connected(G):\n",
        "    print(\"Diamètre du graphe :\", nx.diameter(G))\n",
        "else:\n",
        "    print(\"Le graphe n'est pas connexe.\")\n"
      ],
      "metadata": {
        "colab": {
          "base_uri": "https://localhost:8080/"
        },
        "id": "UsxhpjRN5D7c",
        "outputId": "ad299abc-2d3d-409c-da78-504069e95ad6"
      },
      "execution_count": 23,
      "outputs": [
        {
          "output_type": "stream",
          "name": "stdout",
          "text": [
            "Le graphe n'est pas connexe.\n"
          ]
        }
      ]
    },
    {
      "cell_type": "markdown",
      "source": [
        "Mesure de centralité basée sur les chemins"
      ],
      "metadata": {
        "id": "EUgfL3bU5Wse"
      }
    },
    {
      "cell_type": "code",
      "source": [
        "centralite = nx.betweenness_centrality(G)\n",
        "print(\"Centralité de quelques nœuds :\", dict(list(centralite.items())[:5]))\n"
      ],
      "metadata": {
        "colab": {
          "base_uri": "https://localhost:8080/"
        },
        "id": "g3lYsHRA5KJt",
        "outputId": "9fb8b6a5-203a-44e1-f38d-5d711949d59f"
      },
      "execution_count": 24,
      "outputs": [
        {
          "output_type": "stream",
          "name": "stdout",
          "text": [
            "Centralité de quelques nœuds : {3466: 0.001715248119663197, 937: 0.0003493412893676944, 5233: 0.0, 8579: 0.00035838805830684087, 10310: 0.00875853820067516}\n"
          ]
        }
      ]
    },
    {
      "cell_type": "code",
      "source": [
        "# Choisir deux nœuds dans le graphe\n",
        "noeuds = list(G.nodes())\n",
        "source = noeuds[0]\n",
        "target = noeuds[1]\n",
        "\n",
        "# S'assurer que les deux nœuds existent et sont connectés\n",
        "if source in G and target in G and nx.has_path(G, source, target):\n",
        "    longueur = nx.shortest_path_length(G, source=source, target=target)\n",
        "    print(f\"Longueur du chemin entre {source} et {target} :\", longueur)\n",
        "else:\n",
        "    print(f\"Pas de chemin entre {source} et {target} ou nœuds inexistants.\")\n",
        "\n"
      ],
      "metadata": {
        "colab": {
          "base_uri": "https://localhost:8080/"
        },
        "id": "YkwtWZln5oi0",
        "outputId": "a0ea51d0-fcf5-45f4-a349-96282ca8aacd"
      },
      "execution_count": 29,
      "outputs": [
        {
          "output_type": "stream",
          "name": "stdout",
          "text": [
            "Longueur du chemin entre 3466 et 937 : 1\n"
          ]
        }
      ]
    },
    {
      "cell_type": "code",
      "source": [
        "# Extraire la plus grande composante connexe\n",
        "composantes_connexes = list(nx.connected_components(G))\n",
        "plus_grande_composante = G.subgraph(max(composantes_connexes, key=len)).copy()\n",
        "\n",
        "# Calcul de la longueur moyenne\n",
        "moyenne = nx.average_shortest_path_length(plus_grande_composante)\n",
        "print(f\"Longueur moyenne des plus courts chemins (plus grande composante) : {moyenne:.2f}\")\n"
      ],
      "metadata": {
        "colab": {
          "base_uri": "https://localhost:8080/"
        },
        "id": "DBRZigoY6eXv",
        "outputId": "de6dce70-8f16-4ba4-d1b7-3f5e72eb3a84"
      },
      "execution_count": 30,
      "outputs": [
        {
          "output_type": "stream",
          "name": "stdout",
          "text": [
            "Longueur moyenne des plus courts chemins (plus grande composante) : 6.05\n"
          ]
        }
      ]
    },
    {
      "cell_type": "code",
      "source": [
        "clustering_moyen = nx.average_clustering(G)\n",
        "print(f\"Coefficient de clustering moyen : {clustering_moyen:.4f}\")\n"
      ],
      "metadata": {
        "colab": {
          "base_uri": "https://localhost:8080/"
        },
        "id": "RU8f7DjM633o",
        "outputId": "439d1c03-7113-491b-cefc-53feb1f2cf02"
      },
      "execution_count": 31,
      "outputs": [
        {
          "output_type": "stream",
          "name": "stdout",
          "text": [
            "Coefficient de clustering moyen : 0.5296\n"
          ]
        }
      ]
    },
    {
      "cell_type": "markdown",
      "source": [
        " Centralité de degré (nombre de connexions directes)"
      ],
      "metadata": {
        "id": "Gp3niX-D7Ts0"
      }
    },
    {
      "cell_type": "code",
      "source": [
        "centralite_deg = nx.degree_centrality(G)\n",
        "print(\"Centralité de degré de quelques nœuds :\", dict(list(centralite_deg.items())[:5]))\n"
      ],
      "metadata": {
        "colab": {
          "base_uri": "https://localhost:8080/"
        },
        "id": "yX-gDsFy7Ftq",
        "outputId": "6a5ea1ef-6d25-48aa-ff21-977af771075a"
      },
      "execution_count": 32,
      "outputs": [
        {
          "output_type": "stream",
          "name": "stdout",
          "text": [
            "Centralité de degré de quelques nœuds : {3466: 0.0015264262545315779, 937: 0.0009540164090822362, 5233: 0.00038160656363289447, 8579: 0.0009540164090822362, 10310: 0.002480442663613814}\n"
          ]
        }
      ]
    },
    {
      "cell_type": "code",
      "source": [
        "centralite_inter = nx.betweenness_centrality(G)\n",
        "print(\"Centralité d’intermédiarité de quelques nœuds :\", dict(list(centralite_inter.items())[:5]))\n"
      ],
      "metadata": {
        "colab": {
          "base_uri": "https://localhost:8080/"
        },
        "id": "AiE4t_fP7Nea",
        "outputId": "677ee045-de63-4378-addb-891f20e787fa"
      },
      "execution_count": 33,
      "outputs": [
        {
          "output_type": "stream",
          "name": "stdout",
          "text": [
            "Centralité d’intermédiarité de quelques nœuds : {3466: 0.001715248119663197, 937: 0.0003493412893676944, 5233: 0.0, 8579: 0.00035838805830684087, 10310: 0.00875853820067516}\n"
          ]
        }
      ]
    },
    {
      "cell_type": "code",
      "source": [
        "densite = nx.density(G)\n",
        "print(f\"Densité du graphe : {densite:.4f}\")\n"
      ],
      "metadata": {
        "colab": {
          "base_uri": "https://localhost:8080/"
        },
        "id": "RGHOT_tI8Od-",
        "outputId": "75d176b2-efd9-41c6-9071-23845e906894"
      },
      "execution_count": 34,
      "outputs": [
        {
          "output_type": "stream",
          "name": "stdout",
          "text": [
            "Densité du graphe : 0.0011\n"
          ]
        }
      ]
    },
    {
      "cell_type": "code",
      "source": [
        "import networkx as nx\n",
        "import matplotlib.pyplot as plt\n",
        "\n",
        "# Assure-toi que le graphe G est déjà chargé\n",
        "# Exemple : G = nx.read_edgelist(\"ca-GrQc.txt\", comments='#', nodetype=int)\n",
        "\n",
        "# Récupérer les degrés de tous les nœuds\n",
        "degree_sequence = [d for n, d in G.degree()]\n",
        "degree_count = {}\n",
        "\n",
        "# Compter combien de nœuds ont chaque degré\n",
        "for deg in degree_sequence:\n",
        "    degree_count[deg] = degree_count.get(deg, 0) + 1\n",
        "\n",
        "# Trier les degrés\n",
        "degrees = sorted(degree_count.keys())\n",
        "counts = [degree_count[d] for d in degrees]\n",
        "\n",
        "# Tracer l'histogramme\n",
        "plt.figure(figsize=(10, 6))\n",
        "plt.plot(degrees, counts, 'bo-')\n",
        "plt.xlabel(\"Degré (nombre de connexions)\")\n",
        "plt.ylabel(\"Nombre de nœuds\")\n",
        "plt.title(\"Distribution de degrés du réseau\")\n",
        "plt.grid(True)\n",
        "plt.show()\n"
      ],
      "metadata": {
        "colab": {
          "base_uri": "https://localhost:8080/",
          "height": 565
        },
        "id": "D4vyDL_RDi4D",
        "outputId": "8d3ff249-4a22-423e-e3ac-4dc038466c3d"
      },
      "execution_count": 35,
      "outputs": [
        {
          "output_type": "display_data",
          "data": {
            "text/plain": [
              "<Figure size 1000x600 with 1 Axes>"
            ],
            "image/png": "[encoded data removed]"
          },
          "metadata": {}
        }
      ]
    }
  ]
}